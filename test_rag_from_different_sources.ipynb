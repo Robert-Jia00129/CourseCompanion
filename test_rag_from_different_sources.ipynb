{
 "cells": [
  {
   "cell_type": "code",
   "execution_count": 17,
   "outputs": [
    {
     "name": "stdout",
     "output_type": "stream",
     "text": [
      "Note: you may need to restart the kernel to use updated packages.\n",
      "Note: you may need to restart the kernel to use updated packages.\n",
      "Note: you may need to restart the kernel to use updated packages.\n"
     ]
    }
   ],
   "source": [
    "%pip install -q pypdf\n",
    "%pip install -q faiss-cpu\n",
    "%pip install -q rapidocr-onnxruntime"
   ],
   "metadata": {
    "collapsed": false,
    "ExecuteTime": {
     "end_time": "2024-06-05T13:50:55.041834Z",
     "start_time": "2024-06-05T13:50:48.001285Z"
    }
   },
   "id": "1649164625e549aa"
  },
  {
   "cell_type": "code",
   "execution_count": 1,
   "id": "initial_id",
   "metadata": {
    "collapsed": true,
    "ExecuteTime": {
     "end_time": "2024-06-10T06:21:04.208307Z",
     "start_time": "2024-06-10T06:21:03.154358Z"
    }
   },
   "outputs": [],
   "source": [
    "import os\n",
    "\n",
    "from langchain_core.output_parsers import StrOutputParser\n",
    "from langchain_openai import ChatOpenAI\n",
    "from langchain_chroma import Chroma\n",
    "from langchain_openai import OpenAIEmbeddings\n",
    "from langchain.chains import create_retrieval_chain\n",
    "from langchain.chains.combine_documents import create_stuff_documents_chain\n",
    "from langchain_core.prompts import ChatPromptTemplate\n",
    "import bs4\n",
    "from langchain.agents import AgentExecutor, create_tool_calling_agent\n",
    "from langchain.tools.retriever import create_retriever_tool\n",
    "from langchain_chroma import Chroma\n",
    "from langchain_community.chat_message_histories import ChatMessageHistory\n",
    "from langchain_community.document_loaders import WebBaseLoader\n",
    "from langchain_core.chat_history import BaseChatMessageHistory\n",
    "from langchain_core.prompts import ChatPromptTemplate, MessagesPlaceholder\n",
    "from langchain_core.runnables.history import RunnableWithMessageHistory\n",
    "from langchain_text_splitters import RecursiveCharacterTextSplitter\n",
    "from langgraph.checkpoint.sqlite import SqliteSaver\n",
    "from langgraph.prebuilt import create_react_agent\n",
    "from langchain_core.messages import HumanMessage, SystemMessage\n",
    "from langchain_community.document_loaders import PyPDFLoader\n",
    "\n",
    "os.environ[\"LANGCHAIN_TRACING_V2\"] = \"true\"\n",
    "os.environ[\"LANGCHAIN_API_KEY\"] = \"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\"\n",
    "os.environ[\"TAVILY_API_KEY\"] = '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'"
   ]
  },
  {
   "cell_type": "code",
   "execution_count": 2,
   "outputs": [],
   "source": [
    "\n",
    "\n",
    "query = \"What does television fueled inventors to invent?\"\n",
    "llm = ChatOpenAI(model=\"gpt-3.5-turbo\", temperature=0)\n",
    "\n",
    "def load_from_url(url):\n",
    "    loader = WebBaseLoader(\n",
    "        web_paths=(url,),\n",
    "    )\n",
    "    return loader.load_and_split()\n",
    "\n",
    "\n",
    "def load_from_pdf_documents(file_path):\n",
    "    loader = PyPDFLoader(file_path, extract_images=True)\n",
    "    pages = loader.load()\n",
    "    return pages"
   ],
   "metadata": {
    "collapsed": false,
    "ExecuteTime": {
     "end_time": "2024-06-10T06:21:04.227992Z",
     "start_time": "2024-06-10T06:21:04.208027Z"
    }
   },
   "id": "bd117015058066d0"
  },
  {
   "cell_type": "code",
   "execution_count": 36,
   "outputs": [],
   "source": [
    "docs = load_from_pdf_documents(\"./documents/pdf/Syllabus.pdf\")\n",
    "text_splitter = RecursiveCharacterTextSplitter(chunk_size=1000, chunk_overlap=0)\n",
    "splits = text_splitter.split_documents(docs)\n",
    "vectorstore = Chroma.from_documents(documents=splits, embedding=OpenAIEmbeddings())\n",
    "# retrieve and generate\n",
    "retriever = vectorstore.as_retriever(search_type=\"mmr\", search_kwargs={\"k\": 6})"
   ],
   "metadata": {
    "collapsed": false,
    "ExecuteTime": {
     "end_time": "2024-06-10T06:15:24.066901Z",
     "start_time": "2024-06-10T06:15:22.518598Z"
    }
   },
   "id": "1e7d5c61a796591a"
  },
  {
   "cell_type": "code",
   "execution_count": 3,
   "outputs": [],
   "source": [
    "llm = ChatOpenAI(model=\"gpt-3.5-turbo\", temperature=0)\n",
    "\n",
    "def load_from_url(url):\n",
    "    loader = WebBaseLoader(\n",
    "        web_paths=(url,),\n",
    "    )\n",
    "    return loader.load_and_split()\n",
    "\n",
    "\n",
    "def load_from_pdf_documents(file_path):\n",
    "    loader = PyPDFLoader(file_path, extract_images=True)\n",
    "    pages = loader.load()\n",
    "    return pages\n",
    "\n",
    "\n",
    "def rag_url_agent(query: str):\n",
    "\n",
    "    memory = SqliteSaver.from_conn_string(\":memory:\")\n",
    "    llm = ChatOpenAI(model=\"gpt4-o\", temperature=0)\n",
    "\n",
    "    ### Construct retriever ###\n",
    "    # docs = load_from_url('https://artsandculture.google.com/story/EQURMn3lzjV8JQ')\n",
    "    docs = load_from_pdf_documents(\"./documents/pdf/Syllabus.pdf\")\n",
    "    print(f'Successfully loaded content from website: {docs[0].page_content[:20]}...')\n",
    "\n",
    "    text_splitter = RecursiveCharacterTextSplitter(chunk_size=1000, chunk_overlap=100)\n",
    "    splits = text_splitter.split_documents(docs)\n",
    "    vectorstore = Chroma.from_documents(documents=splits, embedding=OpenAIEmbeddings())\n",
    "    retriever = vectorstore.as_retriever()\n",
    "\n",
    "    ### Build retriever tool ###\n",
    "    # tool = create_retriever_tool(\n",
    "    #     retriever,\n",
    "    #     \"blog_post_retriever\",\n",
    "    #     \"Searches and returns excerpts from the Autonomous Agents blog post.\",\n",
    "    # )\n",
    "    \n",
    "    tool = create_retriever_tool(\n",
    "    retriever,\n",
    "    \"syllabus_content_retriever\",\n",
    "    \"queries the syllabus and for relevant information\",\n",
    "    )\n",
    "    tools = [tool]\n",
    "\n",
    "    agent_executor = create_react_agent(llm, tools, checkpointer=memory)\n",
    "\n",
    "    config = {\"configurable\": {\"thread_id\": \"abc123\"}}\n",
    "\n",
    "    response = agent_executor.invoke(\n",
    "        {\"messages\": [HumanMessage(content=query)]}, config=config\n",
    "    )\n",
    "    print(response['messages'])\n",
    "    print('-------')\n",
    "    print(StrOutputParser().invoke(response['messages'][-1]))\n",
    "    # StrOutputParser().batch(res['messages'])[-1]\n",
    "\n"
   ],
   "metadata": {
    "collapsed": false,
    "ExecuteTime": {
     "end_time": "2024-06-10T06:21:10.124699Z",
     "start_time": "2024-06-10T06:21:10.121897Z"
    }
   },
   "id": "3c2e6f36fdaa1e51"
  },
  {
   "cell_type": "code",
   "execution_count": 4,
   "outputs": [
    {
     "name": "stdout",
     "output_type": "stream",
     "text": [
      "Successfully loaded content from website: SyllabusJOUR1501Sect...\n"
     ]
    },
    {
     "name": "stderr",
     "output_type": "stream",
     "text": [
      "Number of requested results 4 is greater than number of elements in index 1, updating n_results = 1\n",
      "Error in LangChainTracer.on_tool_end callback: TracerException(\"Found chain run at ID 530f3652-79ba-4de5-9a06-2a74d4996115, but expected {'tool'} run.\")\n"
     ]
    },
    {
     "name": "stdout",
     "output_type": "stream",
     "text": [
      "[HumanMessage(content='Who are the instructors and what are their emails? ', id='d43579f1-8958-46f0-b51e-5fc26c4f3e44'), AIMessage(content='', additional_kwargs={'tool_calls': [{'id': 'call_M2ebNpzmBwvGRYIERAPcI3jm', 'function': {'arguments': '{\"query\":\"instructors\"}', 'name': 'syllabus_content_retriever'}, 'type': 'function'}]}, response_metadata={'token_usage': {'completion_tokens': 20, 'prompt_tokens': 72, 'total_tokens': 92}, 'model_name': 'gpt-3.5-turbo', 'system_fingerprint': None, 'finish_reason': 'tool_calls', 'logprobs': None}, id='run-1b0df749-a678-4ba8-bf11-00c37e5ecc43-0', tool_calls=[{'name': 'syllabus_content_retriever', 'args': {'query': 'instructors'}, 'id': 'call_M2ebNpzmBwvGRYIERAPcI3jm'}], usage_metadata={'input_tokens': 72, 'output_tokens': 20, 'total_tokens': 92}), ToolMessage(content='SyllabusJOUR1501Section001:DigitalGamesandSocietySpring2024|3credits|MeetsArtsandHumanitiesCore&TechnologyandSocietyThemeLiberalEducationrequirementsFullyOnline|AsynchronousInstructorsDr.ColinAgur,AssociateProfessorEmail:cpagur@umn.eduWearealsopleasedtohaveDr.EricKramerasconsultantandinstructor-designate.Email:ekramer@umn.eduOﬃceHoursTuesdays10am-2pmviaZoom.Emailcpagur@umn.edutosetupanappointment.TeachingAssistantsMichaelOfori(PhDstudent)Email:ofori047@umn.eduOﬃcehours:Tuesdays10:30am-12:30pm.ZoomMeetingKaileyBlunk(MAstudent)Email:blunk005@umn.eduOﬃcehours:Thursdays10-12pmviaGoogleMeetNicoleKlevanskaya(MAstudent)Email:konop070@umn.eduOﬃcehours:Fridays10am-12pmviaZoomChloeGansen(PhDstudent)Email:gans0074@umn.eduOﬃcehours:Mondays12-2pmviaZoomKaylaGreifenkamp(MAstudent)Email:greif019@umn.eduOﬃcehours:Wednesdays10am-12pmviaZoomAllieSumner(MAstudent)Email:weste482@umn.eduOﬃcehours:Mondays8-10amviaZoom1', name='syllabus_content_retriever', id='61014380-0498-4c1e-be76-50761aa11436', tool_call_id='call_M2ebNpzmBwvGRYIERAPcI3jm'), AIMessage(content='The instructors for the course \"Digital Games and Society\" are:\\n\\n1. Dr. Colin Agur\\n   - Email: cpagur@umn.edu\\n\\n2. Dr. Eric Kramer (consultant and instructor-designate)\\n   - Email: ekramer@umn.edu\\n\\nIf you need to contact them, you can use the provided email addresses.', response_metadata={'token_usage': {'completion_tokens': 72, 'prompt_tokens': 431, 'total_tokens': 503}, 'model_name': 'gpt-3.5-turbo', 'system_fingerprint': None, 'finish_reason': 'stop', 'logprobs': None}, id='run-dd2eb008-0913-444d-b4d0-b2b3f8d17854-0', usage_metadata={'input_tokens': 431, 'output_tokens': 72, 'total_tokens': 503})]\n",
      "-------\n",
      "The instructors for the course \"Digital Games and Society\" are:\n",
      "\n",
      "1. Dr. Colin Agur\n",
      "   - Email: cpagur@umn.edu\n",
      "\n",
      "2. Dr. Eric Kramer (consultant and instructor-designate)\n",
      "   - Email: ekramer@umn.edu\n",
      "\n",
      "If you need to contact them, you can use the provided email addresses.\n"
     ]
    }
   ],
   "source": [
    "# query = \"What does television fueled inventors to invent? \"\n",
    "query = \"Who are the instructors and what are their emails? \"\n",
    "rag_url_agent(query)"
   ],
   "metadata": {
    "collapsed": false,
    "ExecuteTime": {
     "end_time": "2024-06-10T06:21:13.801260Z",
     "start_time": "2024-06-10T06:21:10.574228Z"
    }
   },
   "id": "40daff439e0be01b"
  },
  {
   "cell_type": "code",
   "execution_count": 13,
   "outputs": [
    {
     "name": "stdout",
     "output_type": "stream",
     "text": [
      "20: outside\n",
      "the\n",
      "classroom.\n",
      "Students\n",
      "should\n",
      "expect\n",
      "to\n",
      "spend\n",
      "about\n",
      "9\n",
      "hours\n",
      "in\n",
      "learning\n",
      "eﬀorts\n",
      "per\n",
      "week\n",
      "(inside\n",
      "and\n",
      "outside\n",
      "of\n",
      "class)\n",
      "to\n",
      "satisfactorily\n",
      "complete\n",
      "this\n",
      "course.\n",
      "S t a t e m e n t\n",
      "o f\n",
      "I n s t r u c t i o n a l\n",
      "T i m e\n",
      "All\n",
      "course\n",
      "content\n",
      "is\n",
      "available\n",
      "to\n",
      "students\n",
      "on\n",
      "the\n",
      "ﬁrst\n",
      "day\n",
      "of\n",
      "the\n",
      "course,\n",
      "wi\n",
      "0: Syllabus\n",
      "JOUR\n",
      "1501\n",
      "Section\n",
      "001:\n",
      "Digital\n",
      "Games\n",
      "and\n",
      "Society\n",
      "Spring\n",
      "2024\n",
      "|\n",
      "3\n",
      "credits\n",
      "|\n",
      "Meets\n",
      "Arts\n",
      "and\n",
      "Humanities\n",
      "Core\n",
      "&\n",
      "Technology\n",
      "and\n",
      "Society\n",
      "Theme\n",
      "Liberal\n",
      "Education\n",
      "requirements\n",
      "Fully\n",
      "Online\n",
      "|\n",
      "Asynchronous\n",
      "I n s t r u c t o r s\n",
      "Dr.\n",
      "Colin\n",
      "Agur,\n",
      "Associate\n",
      "Professor\n",
      "Email:\n",
      "cpagur@umn.edu\n",
      "We\n",
      "are\n",
      "also\n",
      "ple\n"
     ]
    }
   ],
   "source": [
    "from langchain_community.vectorstores import FAISS\n",
    "from langchain_openai import OpenAIEmbeddings\n",
    "\n",
    "faiss_index = FAISS.from_documents(pages, OpenAIEmbeddings())\n",
    "docs = faiss_index.similarity_search(\"Who are the instructor?\", k=2)\n",
    "for doc in docs:\n",
    "    print(str(doc.metadata[\"page\"]) + \":\", doc.page_content[:300])"
   ],
   "metadata": {
    "collapsed": false,
    "ExecuteTime": {
     "end_time": "2024-06-04T22:20:30.162153Z",
     "start_time": "2024-06-04T22:20:28.723841Z"
    }
   },
   "id": "bc5ff63f2d1703df"
  },
  {
   "cell_type": "code",
   "execution_count": null,
   "outputs": [],
   "source": [],
   "metadata": {
    "collapsed": false
   },
   "id": "1247540ae8cdae74"
  }
 ],
 "metadata": {
  "kernelspec": {
   "display_name": "Python 3",
   "language": "python",
   "name": "python3"
  },
  "language_info": {
   "codemirror_mode": {
    "name": "ipython",
    "version": 2
   },
   "file_extension": ".py",
   "mimetype": "text/x-python",
   "name": "python",
   "nbconvert_exporter": "python",
   "pygments_lexer": "ipython2",
   "version": "2.7.6"
  }
 },
 "nbformat": 4,
 "nbformat_minor": 5
}
